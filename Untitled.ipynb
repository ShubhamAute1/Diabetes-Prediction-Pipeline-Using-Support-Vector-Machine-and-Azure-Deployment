{
 "cells": [
  {
   "cell_type": "code",
   "execution_count": 1,
   "id": "e09c7ab6-2f5a-442f-9431-9418b31f89ad",
   "metadata": {},
   "outputs": [
    {
     "name": "stdout",
     "output_type": "stream",
     "text": [
      "config.json has been created with the specified data.\n"
     ]
    }
   ],
   "source": [
    "import json\n",
    "\n",
    "# Define the configuration data\n",
    "config_data = {\n",
    "    \"subscription_id\": \"4dc908ec-1bc5-43a6-8ddb-815c1b7e0544\",\n",
    "    \"resource_group\": \"ml-model-deployment-rg\",\n",
    "    \"workspace_name\": \"deploy-sklearn-model-ws1\",\n",
    "    \"region\": \"Central India\"\n",
    "}\n",
    "\n",
    "# Specify the file name\n",
    "file_name = \"config.json\"\n",
    "\n",
    "# Write the data to a JSON file\n",
    "with open(file_name, \"w\") as file:\n",
    "    json.dump(config_data, file, indent=4)\n",
    "\n",
    "print(f\"{file_name} has been created with the specified data.\")\n"
   ]
  },
  {
   "cell_type": "code",
   "execution_count": null,
   "id": "8bc123e2-11ce-4f64-ab84-3f75700cad2f",
   "metadata": {},
   "outputs": [],
   "source": []
  }
 ],
 "metadata": {
  "kernelspec": {
   "display_name": "Python 3 (ipykernel)",
   "language": "python",
   "name": "python3"
  },
  "language_info": {
   "codemirror_mode": {
    "name": "ipython",
    "version": 3
   },
   "file_extension": ".py",
   "mimetype": "text/x-python",
   "name": "python",
   "nbconvert_exporter": "python",
   "pygments_lexer": "ipython3",
   "version": "3.11.8"
  }
 },
 "nbformat": 4,
 "nbformat_minor": 5
}
