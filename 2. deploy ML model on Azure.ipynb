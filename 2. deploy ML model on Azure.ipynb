{
 "cells": [
  {
   "cell_type": "code",
   "execution_count": 2,
   "id": "b426e606-d061-43c8-9b3b-328eac49e65d",
   "metadata": {},
   "outputs": [
    {
     "name": "stdout",
     "output_type": "stream",
     "text": [
      "Requirement already satisfied: azureml-sdk in c:\\users\\basvraj\\anaconda3\\envs\\py311\\lib\\site-packages (1.59.0)\n",
      "Requirement already satisfied: azureml-core~=1.59.0 in c:\\users\\basvraj\\anaconda3\\envs\\py311\\lib\\site-packages (from azureml-sdk) (1.59.0)\n",
      "Requirement already satisfied: azureml-dataset-runtime~=1.59.0 in c:\\users\\basvraj\\anaconda3\\envs\\py311\\lib\\site-packages (from azureml-dataset-runtime[fuse]~=1.59.0->azureml-sdk) (1.59.0)\n",
      "Requirement already satisfied: azureml-train-core~=1.59.0 in c:\\users\\basvraj\\anaconda3\\envs\\py311\\lib\\site-packages (from azureml-sdk) (1.59.0)\n",
      "Requirement already satisfied: azureml-train-automl-client~=1.59.0 in c:\\users\\basvraj\\anaconda3\\envs\\py311\\lib\\site-packages (from azureml-sdk) (1.59.0)\n",
      "Requirement already satisfied: azureml-pipeline~=1.59.0 in c:\\users\\basvraj\\anaconda3\\envs\\py311\\lib\\site-packages (from azureml-sdk) (1.59.0)\n",
      "Requirement already satisfied: pytz in c:\\users\\basvraj\\appdata\\roaming\\python\\python311\\site-packages (from azureml-core~=1.59.0->azureml-sdk) (2023.3)\n",
      "Requirement already satisfied: backports.tempfile in c:\\users\\basvraj\\anaconda3\\envs\\py311\\lib\\site-packages (from azureml-core~=1.59.0->azureml-sdk) (1.0)\n",
      "Requirement already satisfied: pathspec<1.0.0 in c:\\users\\basvraj\\anaconda3\\envs\\py311\\lib\\site-packages (from azureml-core~=1.59.0->azureml-sdk) (0.12.1)\n",
      "Requirement already satisfied: requests<3.0.0,>=2.19.1 in c:\\users\\basvraj\\appdata\\roaming\\python\\python311\\site-packages (from requests[socks]<3.0.0,>=2.19.1->azureml-core~=1.59.0->azureml-sdk) (2.31.0)\n",
      "Requirement already satisfied: msal<2.0.0,>=1.15.0 in c:\\users\\basvraj\\anaconda3\\envs\\py311\\lib\\site-packages (from azureml-core~=1.59.0->azureml-sdk) (1.31.1)\n",
      "Requirement already satisfied: msal-extensions<=2.0.0,>=0.3.0 in c:\\users\\basvraj\\anaconda3\\envs\\py311\\lib\\site-packages (from azureml-core~=1.59.0->azureml-sdk) (1.2.0)\n",
      "Requirement already satisfied: knack<0.13.0 in c:\\users\\basvraj\\anaconda3\\envs\\py311\\lib\\site-packages (from azureml-core~=1.59.0->azureml-sdk) (0.12.0)\n",
      "Requirement already satisfied: azure-core<2.0.0 in c:\\users\\basvraj\\anaconda3\\envs\\py311\\lib\\site-packages (from azureml-core~=1.59.0->azureml-sdk) (1.32.0)\n",
      "Requirement already satisfied: pkginfo in c:\\users\\basvraj\\anaconda3\\envs\\py311\\lib\\site-packages (from azureml-core~=1.59.0->azureml-sdk) (1.12.0)\n",
      "Requirement already satisfied: argcomplete<4 in c:\\users\\basvraj\\anaconda3\\envs\\py311\\lib\\site-packages (from azureml-core~=1.59.0->azureml-sdk) (3.5.2)\n",
      "Requirement already satisfied: humanfriendly<11.0,>=4.7 in c:\\users\\basvraj\\anaconda3\\envs\\py311\\lib\\site-packages (from azureml-core~=1.59.0->azureml-sdk) (10.0)\n",
      "Requirement already satisfied: paramiko<4.0.0,>=2.0.8 in c:\\users\\basvraj\\anaconda3\\envs\\py311\\lib\\site-packages (from azureml-core~=1.59.0->azureml-sdk) (3.5.0)\n",
      "Requirement already satisfied: azure-mgmt-resource<=24.0.0,>=15.0.0 in c:\\users\\basvraj\\anaconda3\\envs\\py311\\lib\\site-packages (from azureml-core~=1.59.0->azureml-sdk) (23.2.0)\n",
      "Requirement already satisfied: azure-mgmt-containerregistry<11,>=8.2.0 in c:\\users\\basvraj\\anaconda3\\envs\\py311\\lib\\site-packages (from azureml-core~=1.59.0->azureml-sdk) (10.3.0)\n",
      "Requirement already satisfied: azure-mgmt-storage<=22.0.0,>=16.0.0 in c:\\users\\basvraj\\anaconda3\\envs\\py311\\lib\\site-packages (from azureml-core~=1.59.0->azureml-sdk) (21.2.1)\n",
      "Requirement already satisfied: azure-mgmt-keyvault<11.0.0,>=0.40.0 in c:\\users\\basvraj\\anaconda3\\envs\\py311\\lib\\site-packages (from azureml-core~=1.59.0->azureml-sdk) (10.3.1)\n",
      "Requirement already satisfied: azure-mgmt-authorization<5,>=0.40.0 in c:\\users\\basvraj\\anaconda3\\envs\\py311\\lib\\site-packages (from azureml-core~=1.59.0->azureml-sdk) (4.0.0)\n",
      "Requirement already satisfied: azure-mgmt-network<=29.0.0 in c:\\users\\basvraj\\anaconda3\\envs\\py311\\lib\\site-packages (from azureml-core~=1.59.0->azureml-sdk) (28.0.0)\n",
      "Requirement already satisfied: azure-graphrbac<1.0.0,>=0.40.0 in c:\\users\\basvraj\\anaconda3\\envs\\py311\\lib\\site-packages (from azureml-core~=1.59.0->azureml-sdk) (0.61.2)\n",
      "Requirement already satisfied: azure-common<2.0.0,>=1.1.12 in c:\\users\\basvraj\\anaconda3\\envs\\py311\\lib\\site-packages (from azureml-core~=1.59.0->azureml-sdk) (1.1.28)\n",
      "Requirement already satisfied: msrest<=0.7.1,>=0.5.1 in c:\\users\\basvraj\\anaconda3\\envs\\py311\\lib\\site-packages (from azureml-core~=1.59.0->azureml-sdk) (0.7.1)\n",
      "Requirement already satisfied: msrestazure<=0.7,>=0.4.33 in c:\\users\\basvraj\\anaconda3\\envs\\py311\\lib\\site-packages (from azureml-core~=1.59.0->azureml-sdk) (0.6.4.post1)\n",
      "Requirement already satisfied: urllib3<3.0.0,>1.26.17 in c:\\users\\basvraj\\appdata\\roaming\\python\\python311\\site-packages (from azureml-core~=1.59.0->azureml-sdk) (2.0.3)\n",
      "Requirement already satisfied: packaging<=25.0,>=20.0 in c:\\users\\basvraj\\appdata\\roaming\\python\\python311\\site-packages (from azureml-core~=1.59.0->azureml-sdk) (23.1)\n",
      "Requirement already satisfied: python-dateutil<3.0.0,>=2.7.3 in c:\\users\\basvraj\\appdata\\roaming\\python\\python311\\site-packages (from azureml-core~=1.59.0->azureml-sdk) (2.8.2)\n",
      "Requirement already satisfied: ndg-httpsclient<=0.5.1 in c:\\users\\basvraj\\anaconda3\\envs\\py311\\lib\\site-packages (from azureml-core~=1.59.0->azureml-sdk) (0.5.1)\n",
      "Requirement already satisfied: SecretStorage<4.0.0 in c:\\users\\basvraj\\anaconda3\\envs\\py311\\lib\\site-packages (from azureml-core~=1.59.0->azureml-sdk) (3.3.3)\n",
      "Requirement already satisfied: jsonpickle<5.0.0 in c:\\users\\basvraj\\anaconda3\\envs\\py311\\lib\\site-packages (from azureml-core~=1.59.0->azureml-sdk) (4.0.0)\n",
      "Requirement already satisfied: contextlib2<22.0.0 in c:\\users\\basvraj\\anaconda3\\envs\\py311\\lib\\site-packages (from azureml-core~=1.59.0->azureml-sdk) (21.6.0)\n",
      "Requirement already satisfied: docker<8.0.0 in c:\\users\\basvraj\\anaconda3\\envs\\py311\\lib\\site-packages (from azureml-core~=1.59.0->azureml-sdk) (7.1.0)\n",
      "Requirement already satisfied: PyJWT<3.0.0 in c:\\users\\basvraj\\appdata\\roaming\\python\\python311\\site-packages (from azureml-core~=1.59.0->azureml-sdk) (2.8.0)\n",
      "Requirement already satisfied: adal<=1.2.7,>=1.2.0 in c:\\users\\basvraj\\anaconda3\\envs\\py311\\lib\\site-packages (from azureml-core~=1.59.0->azureml-sdk) (1.2.7)\n",
      "Requirement already satisfied: pyopenssl<25.0.0 in c:\\users\\basvraj\\anaconda3\\envs\\py311\\lib\\site-packages (from azureml-core~=1.59.0->azureml-sdk) (24.3.0)\n",
      "Requirement already satisfied: jmespath<2.0.0 in c:\\users\\basvraj\\anaconda3\\envs\\py311\\lib\\site-packages (from azureml-core~=1.59.0->azureml-sdk) (1.0.1)\n",
      "Requirement already satisfied: azureml-dataprep<5.2.0a,>=5.1.0a in c:\\users\\basvraj\\anaconda3\\envs\\py311\\lib\\site-packages (from azureml-dataset-runtime~=1.59.0->azureml-dataset-runtime[fuse]~=1.59.0->azureml-sdk) (5.1.6)\n",
      "Requirement already satisfied: pyarrow>=0.17.0 in c:\\users\\basvraj\\appdata\\roaming\\python\\python311\\site-packages (from azureml-dataset-runtime~=1.59.0->azureml-dataset-runtime[fuse]~=1.59.0->azureml-sdk) (12.0.1)\n",
      "Requirement already satisfied: numpy!=1.19.4,<1.24 in c:\\users\\basvraj\\anaconda3\\envs\\py311\\lib\\site-packages (from azureml-dataset-runtime~=1.59.0->azureml-dataset-runtime[fuse]~=1.59.0->azureml-sdk) (1.23.5)\n",
      "Requirement already satisfied: fusepy<4.0.0,>=3.0.1 in c:\\users\\basvraj\\anaconda3\\envs\\py311\\lib\\site-packages (from azureml-dataset-runtime[fuse]~=1.59.0->azureml-sdk) (3.0.1)\n",
      "Requirement already satisfied: azureml-pipeline-core~=1.59.0 in c:\\users\\basvraj\\anaconda3\\envs\\py311\\lib\\site-packages (from azureml-pipeline~=1.59.0->azureml-sdk) (1.59.0)\n",
      "Requirement already satisfied: azureml-pipeline-steps~=1.59.0 in c:\\users\\basvraj\\anaconda3\\envs\\py311\\lib\\site-packages (from azureml-pipeline~=1.59.0->azureml-sdk) (1.59.0)\n",
      "Requirement already satisfied: azureml-automl-core~=1.59.0 in c:\\users\\basvraj\\anaconda3\\envs\\py311\\lib\\site-packages (from azureml-train-automl-client~=1.59.0->azureml-sdk) (1.59.0)\n",
      "Requirement already satisfied: azureml-telemetry~=1.59.0 in c:\\users\\basvraj\\anaconda3\\envs\\py311\\lib\\site-packages (from azureml-train-automl-client~=1.59.0->azureml-sdk) (1.59.0)\n",
      "Requirement already satisfied: azureml-train-restclients-hyperdrive~=1.59.0 in c:\\users\\basvraj\\anaconda3\\envs\\py311\\lib\\site-packages (from azureml-train-core~=1.59.0->azureml-sdk) (1.59.0)\n",
      "Requirement already satisfied: cryptography>=1.1.0 in c:\\users\\basvraj\\anaconda3\\envs\\py311\\lib\\site-packages (from adal<=1.2.7,>=1.2.0->azureml-core~=1.59.0->azureml-sdk) (44.0.0)\n",
      "Requirement already satisfied: six>=1.11.0 in c:\\users\\basvraj\\appdata\\roaming\\python\\python311\\site-packages (from azure-core<2.0.0->azureml-core~=1.59.0->azureml-sdk) (1.16.0)\n",
      "Requirement already satisfied: typing-extensions>=4.6.0 in c:\\users\\basvraj\\appdata\\roaming\\python\\python311\\site-packages (from azure-core<2.0.0->azureml-core~=1.59.0->azureml-sdk) (4.12.2)\n",
      "Requirement already satisfied: isodate<1.0.0,>=0.6.1 in c:\\users\\basvraj\\anaconda3\\envs\\py311\\lib\\site-packages (from azure-mgmt-authorization<5,>=0.40.0->azureml-core~=1.59.0->azureml-sdk) (0.7.2)\n",
      "Requirement already satisfied: azure-mgmt-core<2.0.0,>=1.3.2 in c:\\users\\basvraj\\anaconda3\\envs\\py311\\lib\\site-packages (from azure-mgmt-authorization<5,>=0.40.0->azureml-core~=1.59.0->azureml-sdk) (1.5.0)\n",
      "Requirement already satisfied: importlib-metadata<=8.2.0 in c:\\users\\basvraj\\appdata\\roaming\\python\\python311\\site-packages (from azureml-automl-core~=1.59.0->azureml-train-automl-client~=1.59.0->azureml-sdk) (6.8.0)\n",
      "Requirement already satisfied: importlib-resources<=6.4.0 in c:\\users\\basvraj\\appdata\\roaming\\python\\python311\\site-packages (from azureml-automl-core~=1.59.0->azureml-train-automl-client~=1.59.0->azureml-sdk) (6.0.0)\n",
      "Requirement already satisfied: azureml-dataprep-native<42.0.0,>=41.0.0 in c:\\users\\basvraj\\anaconda3\\envs\\py311\\lib\\site-packages (from azureml-dataprep<5.2.0a,>=5.1.0a->azureml-dataset-runtime~=1.59.0->azureml-dataset-runtime[fuse]~=1.59.0->azureml-sdk) (41.0.0)\n",
      "Requirement already satisfied: azureml-dataprep-rslex~=2.22.2dev0 in c:\\users\\basvraj\\anaconda3\\envs\\py311\\lib\\site-packages (from azureml-dataprep<5.2.0a,>=5.1.0a->azureml-dataset-runtime~=1.59.0->azureml-dataset-runtime[fuse]~=1.59.0->azureml-sdk) (2.22.5)\n",
      "Requirement already satisfied: cloudpickle<3.0.0,>=1.1.0 in c:\\users\\basvraj\\anaconda3\\envs\\py311\\lib\\site-packages (from azureml-dataprep<5.2.0a,>=5.1.0a->azureml-dataset-runtime~=1.59.0->azureml-dataset-runtime[fuse]~=1.59.0->azureml-sdk) (2.2.1)\n",
      "Requirement already satisfied: azure-identity>=1.7.0 in c:\\users\\basvraj\\anaconda3\\envs\\py311\\lib\\site-packages (from azureml-dataprep<5.2.0a,>=5.1.0a->azureml-dataset-runtime~=1.59.0->azureml-dataset-runtime[fuse]~=1.59.0->azureml-sdk) (1.19.0)\n",
      "Requirement already satisfied: jsonschema in c:\\users\\basvraj\\appdata\\roaming\\python\\python311\\site-packages (from azureml-dataprep<5.2.0a,>=5.1.0a->azureml-dataset-runtime~=1.59.0->azureml-dataset-runtime[fuse]~=1.59.0->azureml-sdk) (4.18.3)\n",
      "Requirement already satisfied: pyyaml<7.0.0,>=5.1.0 in c:\\users\\basvraj\\appdata\\roaming\\python\\python311\\site-packages (from azureml-dataprep<5.2.0a,>=5.1.0a->azureml-dataset-runtime~=1.59.0->azureml-dataset-runtime[fuse]~=1.59.0->azureml-sdk) (6.0.1)\n",
      "Requirement already satisfied: applicationinsights in c:\\users\\basvraj\\anaconda3\\envs\\py311\\lib\\site-packages (from azureml-telemetry~=1.59.0->azureml-train-automl-client~=1.59.0->azureml-sdk) (0.11.10)\n",
      "Requirement already satisfied: pywin32>=304 in c:\\users\\basvraj\\appdata\\roaming\\python\\python311\\site-packages (from docker<8.0.0->azureml-core~=1.59.0->azureml-sdk) (306)\n",
      "Requirement already satisfied: pyreadline3 in c:\\users\\basvraj\\anaconda3\\envs\\py311\\lib\\site-packages (from humanfriendly<11.0,>=4.7->azureml-core~=1.59.0->azureml-sdk) (3.5.4)\n",
      "Requirement already satisfied: pygments in c:\\users\\basvraj\\appdata\\roaming\\python\\python311\\site-packages (from knack<0.13.0->azureml-core~=1.59.0->azureml-sdk) (2.15.1)\n",
      "Requirement already satisfied: tabulate in c:\\users\\basvraj\\anaconda3\\envs\\py311\\lib\\site-packages (from knack<0.13.0->azureml-core~=1.59.0->azureml-sdk) (0.9.0)\n",
      "Requirement already satisfied: portalocker<3,>=1.4 in c:\\users\\basvraj\\anaconda3\\envs\\py311\\lib\\site-packages (from msal-extensions<=2.0.0,>=0.3.0->azureml-core~=1.59.0->azureml-sdk) (2.10.1)\n",
      "Requirement already satisfied: certifi>=2017.4.17 in c:\\users\\basvraj\\appdata\\roaming\\python\\python311\\site-packages (from msrest<=0.7.1,>=0.5.1->azureml-core~=1.59.0->azureml-sdk) (2023.5.7)\n",
      "Requirement already satisfied: requests-oauthlib>=0.5.0 in c:\\users\\basvraj\\appdata\\roaming\\python\\python311\\site-packages (from msrest<=0.7.1,>=0.5.1->azureml-core~=1.59.0->azureml-sdk) (1.3.1)\n",
      "Requirement already satisfied: pyasn1>=0.1.1 in c:\\users\\basvraj\\appdata\\roaming\\python\\python311\\site-packages (from ndg-httpsclient<=0.5.1->azureml-core~=1.59.0->azureml-sdk) (0.5.1)\n",
      "Requirement already satisfied: bcrypt>=3.2 in c:\\users\\basvraj\\appdata\\roaming\\python\\python311\\site-packages (from paramiko<4.0.0,>=2.0.8->azureml-core~=1.59.0->azureml-sdk) (4.2.0)\n",
      "Requirement already satisfied: pynacl>=1.5 in c:\\users\\basvraj\\anaconda3\\envs\\py311\\lib\\site-packages (from paramiko<4.0.0,>=2.0.8->azureml-core~=1.59.0->azureml-sdk) (1.5.0)\n",
      "Requirement already satisfied: charset-normalizer<4,>=2 in c:\\users\\basvraj\\appdata\\roaming\\python\\python311\\site-packages (from requests<3.0.0,>=2.19.1->requests[socks]<3.0.0,>=2.19.1->azureml-core~=1.59.0->azureml-sdk) (3.2.0)\n",
      "Requirement already satisfied: idna<4,>=2.5 in c:\\users\\basvraj\\appdata\\roaming\\python\\python311\\site-packages (from requests<3.0.0,>=2.19.1->requests[socks]<3.0.0,>=2.19.1->azureml-core~=1.59.0->azureml-sdk) (3.4)\n",
      "Requirement already satisfied: PySocks!=1.5.7,>=1.5.6 in c:\\users\\basvraj\\anaconda3\\envs\\py311\\lib\\site-packages (from requests[socks]<3.0.0,>=2.19.1->azureml-core~=1.59.0->azureml-sdk) (1.7.1)\n",
      "Requirement already satisfied: jeepney>=0.6 in c:\\users\\basvraj\\anaconda3\\envs\\py311\\lib\\site-packages (from SecretStorage<4.0.0->azureml-core~=1.59.0->azureml-sdk) (0.8.0)\n",
      "Requirement already satisfied: backports.weakref in c:\\users\\basvraj\\anaconda3\\envs\\py311\\lib\\site-packages (from backports.tempfile->azureml-core~=1.59.0->azureml-sdk) (1.0.post1)\n",
      "Requirement already satisfied: cffi>=1.12 in c:\\users\\basvraj\\anaconda3\\envs\\py311\\lib\\site-packages (from cryptography>=1.1.0->adal<=1.2.7,>=1.2.0->azureml-core~=1.59.0->azureml-sdk) (1.16.0)\n",
      "Requirement already satisfied: zipp>=0.5 in c:\\users\\basvraj\\appdata\\roaming\\python\\python311\\site-packages (from importlib-metadata<=8.2.0->azureml-automl-core~=1.59.0->azureml-train-automl-client~=1.59.0->azureml-sdk) (3.16.2)\n",
      "Requirement already satisfied: oauthlib>=3.0.0 in c:\\users\\basvraj\\appdata\\roaming\\python\\python311\\site-packages (from requests-oauthlib>=0.5.0->msrest<=0.7.1,>=0.5.1->azureml-core~=1.59.0->azureml-sdk) (3.2.2)\n",
      "Requirement already satisfied: attrs>=22.2.0 in c:\\users\\basvraj\\appdata\\roaming\\python\\python311\\site-packages (from jsonschema->azureml-dataprep<5.2.0a,>=5.1.0a->azureml-dataset-runtime~=1.59.0->azureml-dataset-runtime[fuse]~=1.59.0->azureml-sdk) (23.1.0)\n",
      "Requirement already satisfied: jsonschema-specifications>=2023.03.6 in c:\\users\\basvraj\\appdata\\roaming\\python\\python311\\site-packages (from jsonschema->azureml-dataprep<5.2.0a,>=5.1.0a->azureml-dataset-runtime~=1.59.0->azureml-dataset-runtime[fuse]~=1.59.0->azureml-sdk) (2023.6.1)\n",
      "Requirement already satisfied: referencing>=0.28.4 in c:\\users\\basvraj\\appdata\\roaming\\python\\python311\\site-packages (from jsonschema->azureml-dataprep<5.2.0a,>=5.1.0a->azureml-dataset-runtime~=1.59.0->azureml-dataset-runtime[fuse]~=1.59.0->azureml-sdk) (0.29.1)\n",
      "Requirement already satisfied: rpds-py>=0.7.1 in c:\\users\\basvraj\\appdata\\roaming\\python\\python311\\site-packages (from jsonschema->azureml-dataprep<5.2.0a,>=5.1.0a->azureml-dataset-runtime~=1.59.0->azureml-dataset-runtime[fuse]~=1.59.0->azureml-sdk) (0.8.10)\n",
      "Requirement already satisfied: pycparser in c:\\users\\basvraj\\anaconda3\\envs\\py311\\lib\\site-packages (from cffi>=1.12->cryptography>=1.1.0->adal<=1.2.7,>=1.2.0->azureml-core~=1.59.0->azureml-sdk) (2.21)\n"
     ]
    },
    {
     "name": "stderr",
     "output_type": "stream",
     "text": [
      "\n",
      "[notice] A new release of pip is available: 24.2 -> 24.3.1\n",
      "[notice] To update, run: python.exe -m pip install --upgrade pip\n"
     ]
    }
   ],
   "source": [
    "!pip install azureml-sdk"
   ]
  },
  {
   "cell_type": "markdown",
   "id": "bde701c0-b13c-490e-8b5d-d28f0f94828e",
   "metadata": {},
   "source": [
    "**Importing the dependencies**"
   ]
  },
  {
   "cell_type": "code",
   "execution_count": 3,
   "id": "00622403-3ce4-49a3-bf79-46b4dd35d6f0",
   "metadata": {},
   "outputs": [],
   "source": [
    "import os\n",
    "import json\n",
    "import requests\n",
    "\n",
    "from azureml.core import Workspace\n",
    "from azureml.core.model import Model\n",
    "from azureml.core.environment import Environment\n",
    "from azureml.core.conda_dependencies import CondaDependencies\n",
    "from azureml.core.model import InferenceConfig\n",
    "from azureml.core.webservice import AciWebservice, Webservice"
   ]
  },
  {
   "cell_type": "code",
   "execution_count": 6,
   "id": "20511285-c420-4366-a738-e363881489b4",
   "metadata": {},
   "outputs": [],
   "source": [
    "# laoding the configuration file - standard way - use .env file and load_dotenv from python-dotenv module\n",
    "config_file_path = \"config.json\"\n",
    "\n",
    "# Read JSON data into a dictionary\n",
    "with open(config_file_path, 'r') as file:\n",
    "    data = json.load(file)\n",
    "\n",
    "subscription_id = data[\"subscription_id\"]\n",
    "resource_group = data[\"resource_group\"]  \n",
    "workspace_name = data[\"workspace_name\"]\n",
    "region = data[\"region\"]"
   ]
  },
  {
   "cell_type": "code",
   "execution_count": 7,
   "id": "2181b4be-b18b-4f73-936c-b2df905c5c4f",
   "metadata": {},
   "outputs": [
    {
     "name": "stdout",
     "output_type": "stream",
     "text": [
      "ml-model-deployment-rg\n",
      "deploy-sklearn-model-ws1\n",
      "Central India\n"
     ]
    }
   ],
   "source": [
    "print(resource_group)\n",
    "print(workspace_name)\n",
    "print(region)"
   ]
  },
  {
   "cell_type": "markdown",
   "id": "1169e424-9325-4eae-bb4a-6cd33ff84db9",
   "metadata": {},
   "source": [
    "**Create a Resource Group from Azure Portal**"
   ]
  },
  {
   "cell_type": "code",
   "execution_count": 8,
   "id": "67ea9e3f-95be-436d-b9de-e395c093b4c6",
   "metadata": {},
   "outputs": [
    {
     "name": "stdout",
     "output_type": "stream",
     "text": [
      "Performing interactive authentication. Please follow the instructions on the terminal.\n"
     ]
    },
    {
     "name": "stderr",
     "output_type": "stream",
     "text": [
      "The default web browser has been opened at https://login.microsoftonline.com/organizations/oauth2/v2.0/authorize. Please continue the login in the web browser. If no web browser is available or if the web browser fails to open, use device code flow with `az login --use-device-code`.\n"
     ]
    },
    {
     "name": "stdout",
     "output_type": "stream",
     "text": [
      "Interactive authentication successfully completed.\n",
      "Deploying Workspace with name deploy-sklearn-model-ws1.\n",
      "Deploying AppInsights with name deployskinsightsf199d576.\n",
      "Deployed AppInsights with name deployskinsightsf199d576. Took 107.51 seconds.\n",
      "Deployed Workspace with name deploy-sklearn-model-ws1. Took 21.09 seconds.\n",
      "Workspace deploy-sklearn-model-ws1 created\n"
     ]
    }
   ],
   "source": [
    "# Create a workspace\n",
    "\n",
    "ws = Workspace.create(name=workspace_name,\n",
    "                      subscription_id=subscription_id,\n",
    "                      resource_group=resource_group,\n",
    "                      location=region)\n",
    "\n",
    "print(f'Workspace {workspace_name} created')"
   ]
  },
  {
   "cell_type": "code",
   "execution_count": 9,
   "id": "3a59b584-1f6a-4605-99a2-0d9e649d22b9",
   "metadata": {},
   "outputs": [],
   "source": [
    "# Specify the path to your  model file\n",
    "model_path = 'diabetes_model.pkl'"
   ]
  },
  {
   "cell_type": "code",
   "execution_count": 10,
   "id": "4128cd49-48bf-4a97-a931-8d7c391d7e98",
   "metadata": {},
   "outputs": [],
   "source": [
    "model_name='diabetes_prediction_model'"
   ]
  },
  {
   "cell_type": "code",
   "execution_count": 11,
   "id": "383488f6-6d86-4efc-9906-17547c6c5f53",
   "metadata": {},
   "outputs": [
    {
     "name": "stdout",
     "output_type": "stream",
     "text": [
      "Registering model diabetes_prediction_model\n"
     ]
    }
   ],
   "source": [
    "# Register the model in Azure Machine Learning\n",
    "registered_model = Model.register(model_path=model_path, model_name=model_name, workspace=ws)"
   ]
  },
  {
   "cell_type": "code",
   "execution_count": 12,
   "id": "064fbfc8-b4fd-493a-a383-1f7edb86479a",
   "metadata": {},
   "outputs": [],
   "source": [
    "# Create a Conda environment for your scikit-learn model\n",
    "conda_env = Environment('my-conda-env')\n",
    "conda_env.python.conda_dependencies = CondaDependencies.create(conda_packages=['scikit-learn'])"
   ]
  },
  {
   "cell_type": "code",
   "execution_count": 13,
   "id": "1ff71338-a9a9-4b5c-993d-4ac3091db355",
   "metadata": {},
   "outputs": [],
   "source": [
    "# Create an InferenceConfig\n",
    "inference_config = InferenceConfig(entry_script='score.py', environment=conda_env)"
   ]
  },
  {
   "cell_type": "code",
   "execution_count": 18,
   "id": "17ac0a14-c826-4331-9932-7b9d4b185749",
   "metadata": {},
   "outputs": [],
   "source": [
    "# Specify deployment configuration for ACI\n",
    "aci_config = AciWebservice.deploy_configuration(cpu_cores=1, memory_gb=1)"
   ]
  },
  {
   "cell_type": "code",
   "execution_count": 19,
   "id": "2c72d776-7f1e-49ad-8c43-f837b23e8645",
   "metadata": {},
   "outputs": [
    {
     "name": "stderr",
     "output_type": "stream",
     "text": [
      "C:\\Users\\Basvraj\\AppData\\Local\\Temp\\ipykernel_1920\\3861565384.py:1: FutureWarning: azureml.core.model:\n",
      "To leverage new model deployment capabilities, AzureML recommends using CLI/SDK v2 to deploy models as online endpoint, \n",
      "please refer to respective documentations \n",
      "https://docs.microsoft.com/azure/machine-learning/how-to-deploy-managed-online-endpoints /\n",
      "https://docs.microsoft.com/azure/machine-learning/how-to-attach-kubernetes-anywhere \n",
      "For more information on migration, see https://aka.ms/acimoemigration \n",
      "To disable CLI/SDK v1 deprecation warning set AZUREML_LOG_DEPRECATION_WARNING_ENABLED to 'False'\n",
      "  service = Model.deploy(workspace=ws,\n"
     ]
    },
    {
     "name": "stdout",
     "output_type": "stream",
     "text": [
      "Tips: You can try get_logs(): https://aka.ms/debugimage#dockerlog or local deployment: https://aka.ms/debugimage#debug-locally to debug if deployment takes longer than 10 minutes.\n",
      "Running\n",
      "2024-12-11 12:08:25+05:30 Creating Container Registry if not exists..\n",
      "2024-12-11 12:18:26+05:30 Registering the environment.\n",
      "2024-12-11 12:18:30+05:30 Building image..\n",
      "2024-12-11 12:29:45+05:30 Generating deployment configuration.\n",
      "2024-12-11 12:29:47+05:30 Submitting deployment to compute..\n",
      "2024-12-11 12:29:56+05:30 Checking the status of deployment diabetes-prediction-service.\n",
      "Succeeded\n",
      "ACI service creation operation finished, operation \"Succeeded\"\n"
     ]
    }
   ],
   "source": [
    "service = Model.deploy(workspace=ws,\n",
    "                       name='diabetes-prediction-service',\n",
    "                       models=[registered_model],\n",
    "                       inference_config=inference_config,\n",
    "                       deployment_config=aci_config)\n",
    "service.wait_for_deployment(show_output=True)"
   ]
  },
  {
   "cell_type": "code",
   "execution_count": 20,
   "id": "69efb038-ad52-46d0-9f17-5acd96151214",
   "metadata": {},
   "outputs": [],
   "source": [
    "scoring_uri = service.scoring_uri"
   ]
  },
  {
   "cell_type": "code",
   "execution_count": 21,
   "id": "731b0f84-6e1a-4cc9-9497-e958f6efbd73",
   "metadata": {},
   "outputs": [
    {
     "data": {
      "text/plain": [
       "'http://b40ce2f4-0521-468e-896e-b5193c685731.centralindia.azurecontainer.io/score'"
      ]
     },
     "execution_count": 21,
     "metadata": {},
     "output_type": "execute_result"
    }
   ],
   "source": [
    "scoring_uri"
   ]
  },
  {
   "cell_type": "markdown",
   "id": "d5cafb79-2702-4203-977d-4181247fcbd5",
   "metadata": {},
   "source": [
    "**Cleaning up all the created resources**"
   ]
  },
  {
   "cell_type": "code",
   "execution_count": 22,
   "id": "a1895e4a-551d-4472-99bb-8bc2993c699a",
   "metadata": {},
   "outputs": [
    {
     "name": "stdout",
     "output_type": "stream",
     "text": [
      "Running\n",
      "2024-12-11 15:42:54+05:30 Check and wait for operation (156c942c-eeba-4a39-9a9c-bf775a650dfe) to finish.\n",
      "2024-12-11 15:42:59+05:30 Deleting service entity.\n",
      "Succeeded\n"
     ]
    }
   ],
   "source": [
    "# Delete the service\n",
    "\n",
    "service_name = \"diabetes-prediction-service\"\n",
    "\n",
    "service = ws.webservices[service_name]\n",
    "service.delete()"
   ]
  },
  {
   "cell_type": "code",
   "execution_count": 25,
   "id": "1f1e57ad-478c-4aed-b33a-08bf3f09632c",
   "metadata": {},
   "outputs": [
    {
     "ename": "ModelErrorResponseException",
     "evalue": "Workspace not found.",
     "output_type": "error",
     "traceback": [
      "\u001b[1;31m---------------------------------------------------------------------------\u001b[0m",
      "\u001b[1;31mModelErrorResponseException\u001b[0m               Traceback (most recent call last)",
      "Cell \u001b[1;32mIn[25], line 5\u001b[0m\n\u001b[0;32m      2\u001b[0m model_name \u001b[38;5;241m=\u001b[39m \u001b[38;5;124m'\u001b[39m\u001b[38;5;124mdiabetes_prediction_model\u001b[39m\u001b[38;5;124m'\u001b[39m\n\u001b[0;32m      4\u001b[0m \u001b[38;5;66;03m# Delete the model\u001b[39;00m\n\u001b[1;32m----> 5\u001b[0m registered_model \u001b[38;5;241m=\u001b[39m \u001b[43mws\u001b[49m\u001b[38;5;241;43m.\u001b[39;49m\u001b[43mmodels\u001b[49m[model_name]\n\u001b[0;32m      6\u001b[0m registered_model\u001b[38;5;241m.\u001b[39mdelete()\n",
      "File \u001b[1;32m~\\anaconda3\\envs\\py311\\Lib\\site-packages\\azureml\\core\\workspace.py:1357\u001b[0m, in \u001b[0;36mWorkspace.models\u001b[1;34m(self)\u001b[0m\n\u001b[0;32m   1345\u001b[0m \u001b[38;5;129m@property\u001b[39m\n\u001b[0;32m   1346\u001b[0m \u001b[38;5;28;01mdef\u001b[39;00m \u001b[38;5;21mmodels\u001b[39m(\u001b[38;5;28mself\u001b[39m):\n\u001b[0;32m   1347\u001b[0m \u001b[38;5;250m    \u001b[39m\u001b[38;5;124;03m\"\"\"Return a list of model in the workspace.\u001b[39;00m\n\u001b[0;32m   1348\u001b[0m \n\u001b[0;32m   1349\u001b[0m \u001b[38;5;124;03m    Raises a :class:`azureml.exceptions.WebserviceException` if there was a problem interacting with\u001b[39;00m\n\u001b[1;32m   (...)\u001b[0m\n\u001b[0;32m   1355\u001b[0m \u001b[38;5;124;03m        service.\u001b[39;00m\n\u001b[0;32m   1356\u001b[0m \u001b[38;5;124;03m    \"\"\"\u001b[39;00m\n\u001b[1;32m-> 1357\u001b[0m     \u001b[38;5;28;01mreturn\u001b[39;00m {model\u001b[38;5;241m.\u001b[39mname: model \u001b[38;5;28;01mfor\u001b[39;00m model \u001b[38;5;129;01min\u001b[39;00m \u001b[43mModel\u001b[49m\u001b[38;5;241;43m.\u001b[39;49m\u001b[43mlist\u001b[49m\u001b[43m(\u001b[49m\u001b[38;5;28;43mself\u001b[39;49m\u001b[43m,\u001b[49m\u001b[43m \u001b[49m\u001b[43mlatest\u001b[49m\u001b[38;5;241;43m=\u001b[39;49m\u001b[38;5;28;43;01mTrue\u001b[39;49;00m\u001b[43m)\u001b[49m}\n",
      "File \u001b[1;32m~\\anaconda3\\envs\\py311\\Lib\\site-packages\\azureml\\core\\model.py:1299\u001b[0m, in \u001b[0;36mModel.list\u001b[1;34m(workspace, name, tags, properties, run_id, latest, dataset_id, expand, page_count, model_framework)\u001b[0m\n\u001b[0;32m   1293\u001b[0m     properties_query \u001b[38;5;241m=\u001b[39m properties_query[:\u001b[38;5;241m-\u001b[39m\u001b[38;5;241m1\u001b[39m]\n\u001b[0;32m   1295\u001b[0m model_dto_list \u001b[38;5;241m=\u001b[39m models_client\u001b[38;5;241m.\u001b[39mquery(name\u001b[38;5;241m=\u001b[39mname, tags\u001b[38;5;241m=\u001b[39mtags_query, properties\u001b[38;5;241m=\u001b[39mproperties_query, run_id\u001b[38;5;241m=\u001b[39mrun_id,\n\u001b[0;32m   1296\u001b[0m                                      dataset_id\u001b[38;5;241m=\u001b[39mdataset_id, latest_version_only\u001b[38;5;241m=\u001b[39mlatest, count\u001b[38;5;241m=\u001b[39mpage_count,\n\u001b[0;32m   1297\u001b[0m                                      framework\u001b[38;5;241m=\u001b[39mmodel_framework)\n\u001b[1;32m-> 1299\u001b[0m \u001b[38;5;28;01mreturn\u001b[39;00m \u001b[43m[\u001b[49m\u001b[43mModel\u001b[49m\u001b[43m(\u001b[49m\u001b[43mworkspace\u001b[49m\u001b[43m,\u001b[49m\u001b[43m \u001b[49m\u001b[43m_model_dto\u001b[49m\u001b[38;5;241;43m=\u001b[39;49m\u001b[43mmodel_dto\u001b[49m\u001b[43m,\u001b[49m\u001b[43m \u001b[49m\u001b[43mexpand\u001b[49m\u001b[38;5;241;43m=\u001b[39;49m\u001b[43mexpand\u001b[49m\u001b[43m)\u001b[49m\u001b[43m \u001b[49m\u001b[38;5;28;43;01mfor\u001b[39;49;00m\u001b[43m \u001b[49m\u001b[43mmodel_dto\u001b[49m\u001b[43m \u001b[49m\u001b[38;5;129;43;01min\u001b[39;49;00m\u001b[43m \u001b[49m\u001b[43mmodel_dto_list\u001b[49m\u001b[43m]\u001b[49m\n",
      "File \u001b[1;32m~\\anaconda3\\envs\\py311\\Lib\\site-packages\\azureml\\core\\model.py:1299\u001b[0m, in \u001b[0;36m<listcomp>\u001b[1;34m(.0)\u001b[0m\n\u001b[0;32m   1293\u001b[0m     properties_query \u001b[38;5;241m=\u001b[39m properties_query[:\u001b[38;5;241m-\u001b[39m\u001b[38;5;241m1\u001b[39m]\n\u001b[0;32m   1295\u001b[0m model_dto_list \u001b[38;5;241m=\u001b[39m models_client\u001b[38;5;241m.\u001b[39mquery(name\u001b[38;5;241m=\u001b[39mname, tags\u001b[38;5;241m=\u001b[39mtags_query, properties\u001b[38;5;241m=\u001b[39mproperties_query, run_id\u001b[38;5;241m=\u001b[39mrun_id,\n\u001b[0;32m   1296\u001b[0m                                      dataset_id\u001b[38;5;241m=\u001b[39mdataset_id, latest_version_only\u001b[38;5;241m=\u001b[39mlatest, count\u001b[38;5;241m=\u001b[39mpage_count,\n\u001b[0;32m   1297\u001b[0m                                      framework\u001b[38;5;241m=\u001b[39mmodel_framework)\n\u001b[1;32m-> 1299\u001b[0m \u001b[38;5;28;01mreturn\u001b[39;00m \u001b[43m[\u001b[49m\u001b[43mModel\u001b[49m\u001b[43m(\u001b[49m\u001b[43mworkspace\u001b[49m\u001b[43m,\u001b[49m\u001b[43m \u001b[49m\u001b[43m_model_dto\u001b[49m\u001b[38;5;241;43m=\u001b[39;49m\u001b[43mmodel_dto\u001b[49m\u001b[43m,\u001b[49m\u001b[43m \u001b[49m\u001b[43mexpand\u001b[49m\u001b[38;5;241;43m=\u001b[39;49m\u001b[43mexpand\u001b[49m\u001b[43m)\u001b[49m\u001b[43m \u001b[49m\u001b[38;5;28;43;01mfor\u001b[39;49;00m\u001b[43m \u001b[49m\u001b[43mmodel_dto\u001b[49m\u001b[43m \u001b[49m\u001b[38;5;129;43;01min\u001b[39;49;00m\u001b[43m \u001b[49m\u001b[43mmodel_dto_list\u001b[49m\u001b[43m]\u001b[49m\n",
      "File \u001b[1;32m~\\anaconda3\\envs\\py311\\Lib\\site-packages\\azureml\\_restclient\\clientbase.py:264\u001b[0m, in \u001b[0;36mClientBase._call_paginated_api\u001b[1;34m(self, func, *args, **kwargs)\u001b[0m\n\u001b[0;32m    262\u001b[0m next_page \u001b[38;5;241m=\u001b[39m \u001b[38;5;28mself\u001b[39m\u001b[38;5;241m.\u001b[39m_call_api(func, \u001b[38;5;241m*\u001b[39margs, \u001b[38;5;241m*\u001b[39m\u001b[38;5;241m*\u001b[39mkwargs)\n\u001b[0;32m    263\u001b[0m \u001b[38;5;28;01mwhile\u001b[39;00m (\u001b[38;5;28;01mTrue\u001b[39;00m):\n\u001b[1;32m--> 264\u001b[0m     paginated_dto \u001b[38;5;241m=\u001b[39m \u001b[43mnext_page\u001b[49m\u001b[38;5;241;43m.\u001b[39;49m\u001b[43mwait\u001b[49m\u001b[43m(\u001b[49m\u001b[43mawaiter_name\u001b[49m\u001b[38;5;241;43m=\u001b[39;49m\u001b[38;5;124;43m\"\u001b[39;49m\u001b[38;5;124;43mApiPagination\u001b[39;49m\u001b[38;5;124;43m\"\u001b[39;49m\u001b[43m)\u001b[49m\n\u001b[0;32m    266\u001b[0m     \u001b[38;5;28;01mif\u001b[39;00m \u001b[38;5;129;01mnot\u001b[39;00m paginated_dto:\n\u001b[0;32m    267\u001b[0m         \u001b[38;5;28;01mbreak\u001b[39;00m\n",
      "File \u001b[1;32m~\\anaconda3\\envs\\py311\\Lib\\site-packages\\azureml\\_common\\async_utils\\async_task.py:58\u001b[0m, in \u001b[0;36mAsyncTask.wait\u001b[1;34m(self, awaiter_name)\u001b[0m\n\u001b[0;32m     56\u001b[0m \u001b[38;5;28;01mwith\u001b[39;00m \u001b[38;5;28mself\u001b[39m\u001b[38;5;241m.\u001b[39m_log_context(\u001b[38;5;124m\"\u001b[39m\u001b[38;5;124mWaitingTask\u001b[39m\u001b[38;5;124m\"\u001b[39m) \u001b[38;5;28;01mas\u001b[39;00m context:\n\u001b[0;32m     57\u001b[0m     context\u001b[38;5;241m.\u001b[39mdebug(\u001b[38;5;124m\"\u001b[39m\u001b[38;5;124mAwaiter is \u001b[39m\u001b[38;5;132;01m{}\u001b[39;00m\u001b[38;5;124m\"\u001b[39m\u001b[38;5;241m.\u001b[39mformat(awaiter_name))\n\u001b[1;32m---> 58\u001b[0m     res \u001b[38;5;241m=\u001b[39m \u001b[38;5;28;43mself\u001b[39;49m\u001b[38;5;241;43m.\u001b[39;49m\u001b[43m_handler\u001b[49m\u001b[43m(\u001b[49m\u001b[38;5;28;43mself\u001b[39;49m\u001b[38;5;241;43m.\u001b[39;49m\u001b[43m_future\u001b[49m\u001b[43m,\u001b[49m\u001b[43m \u001b[49m\u001b[38;5;28;43mself\u001b[39;49m\u001b[38;5;241;43m.\u001b[39;49m\u001b[43m_logger\u001b[49m\u001b[43m)\u001b[49m\n\u001b[0;32m     59\u001b[0m \u001b[38;5;28;01mreturn\u001b[39;00m res\n",
      "File \u001b[1;32m~\\anaconda3\\envs\\py311\\Lib\\site-packages\\azureml\\_common\\async_utils\\async_task.py:16\u001b[0m, in \u001b[0;36mbasic_handler\u001b[1;34m(future, _)\u001b[0m\n\u001b[0;32m     14\u001b[0m \u001b[38;5;28;01mdef\u001b[39;00m \u001b[38;5;21mbasic_handler\u001b[39m(future, _):\n\u001b[0;32m     15\u001b[0m \u001b[38;5;250m    \u001b[39m\u001b[38;5;124;03m\"\"\"Returns future's result directly with no error handling\"\"\"\u001b[39;00m\n\u001b[1;32m---> 16\u001b[0m     \u001b[38;5;28;01mreturn\u001b[39;00m \u001b[43mfuture\u001b[49m\u001b[38;5;241;43m.\u001b[39;49m\u001b[43mresult\u001b[49m\u001b[43m(\u001b[49m\u001b[43m)\u001b[49m\n",
      "File \u001b[1;32m~\\anaconda3\\envs\\py311\\Lib\\concurrent\\futures\\_base.py:456\u001b[0m, in \u001b[0;36mFuture.result\u001b[1;34m(self, timeout)\u001b[0m\n\u001b[0;32m    454\u001b[0m     \u001b[38;5;28;01mraise\u001b[39;00m CancelledError()\n\u001b[0;32m    455\u001b[0m \u001b[38;5;28;01melif\u001b[39;00m \u001b[38;5;28mself\u001b[39m\u001b[38;5;241m.\u001b[39m_state \u001b[38;5;241m==\u001b[39m FINISHED:\n\u001b[1;32m--> 456\u001b[0m     \u001b[38;5;28;01mreturn\u001b[39;00m \u001b[38;5;28;43mself\u001b[39;49m\u001b[38;5;241;43m.\u001b[39;49m\u001b[43m__get_result\u001b[49m\u001b[43m(\u001b[49m\u001b[43m)\u001b[49m\n\u001b[0;32m    457\u001b[0m \u001b[38;5;28;01melse\u001b[39;00m:\n\u001b[0;32m    458\u001b[0m     \u001b[38;5;28;01mraise\u001b[39;00m \u001b[38;5;167;01mTimeoutError\u001b[39;00m()\n",
      "File \u001b[1;32m~\\anaconda3\\envs\\py311\\Lib\\concurrent\\futures\\_base.py:401\u001b[0m, in \u001b[0;36mFuture.__get_result\u001b[1;34m(self)\u001b[0m\n\u001b[0;32m    399\u001b[0m \u001b[38;5;28;01mif\u001b[39;00m \u001b[38;5;28mself\u001b[39m\u001b[38;5;241m.\u001b[39m_exception:\n\u001b[0;32m    400\u001b[0m     \u001b[38;5;28;01mtry\u001b[39;00m:\n\u001b[1;32m--> 401\u001b[0m         \u001b[38;5;28;01mraise\u001b[39;00m \u001b[38;5;28mself\u001b[39m\u001b[38;5;241m.\u001b[39m_exception\n\u001b[0;32m    402\u001b[0m     \u001b[38;5;28;01mfinally\u001b[39;00m:\n\u001b[0;32m    403\u001b[0m         \u001b[38;5;66;03m# Break a reference cycle with the exception in self._exception\u001b[39;00m\n\u001b[0;32m    404\u001b[0m         \u001b[38;5;28mself\u001b[39m \u001b[38;5;241m=\u001b[39m \u001b[38;5;28;01mNone\u001b[39;00m\n",
      "File \u001b[1;32m~\\anaconda3\\envs\\py311\\Lib\\concurrent\\futures\\thread.py:58\u001b[0m, in \u001b[0;36m_WorkItem.run\u001b[1;34m(self)\u001b[0m\n\u001b[0;32m     55\u001b[0m     \u001b[38;5;28;01mreturn\u001b[39;00m\n\u001b[0;32m     57\u001b[0m \u001b[38;5;28;01mtry\u001b[39;00m:\n\u001b[1;32m---> 58\u001b[0m     result \u001b[38;5;241m=\u001b[39m \u001b[38;5;28;43mself\u001b[39;49m\u001b[38;5;241;43m.\u001b[39;49m\u001b[43mfn\u001b[49m\u001b[43m(\u001b[49m\u001b[38;5;241;43m*\u001b[39;49m\u001b[38;5;28;43mself\u001b[39;49m\u001b[38;5;241;43m.\u001b[39;49m\u001b[43margs\u001b[49m\u001b[43m,\u001b[49m\u001b[43m \u001b[49m\u001b[38;5;241;43m*\u001b[39;49m\u001b[38;5;241;43m*\u001b[39;49m\u001b[38;5;28;43mself\u001b[39;49m\u001b[38;5;241;43m.\u001b[39;49m\u001b[43mkwargs\u001b[49m\u001b[43m)\u001b[49m\n\u001b[0;32m     59\u001b[0m \u001b[38;5;28;01mexcept\u001b[39;00m \u001b[38;5;167;01mBaseException\u001b[39;00m \u001b[38;5;28;01mas\u001b[39;00m exc:\n\u001b[0;32m     60\u001b[0m     \u001b[38;5;28mself\u001b[39m\u001b[38;5;241m.\u001b[39mfuture\u001b[38;5;241m.\u001b[39mset_exception(exc)\n",
      "File \u001b[1;32m~\\anaconda3\\envs\\py311\\Lib\\site-packages\\azureml\\_restclient\\clientbase.py:334\u001b[0m, in \u001b[0;36mClientBase._execute_with_base_arguments\u001b[1;34m(self, func, *args, **kwargs)\u001b[0m\n\u001b[0;32m    332\u001b[0m back_off \u001b[38;5;241m=\u001b[39m \u001b[38;5;28mself\u001b[39m\u001b[38;5;241m.\u001b[39mbackoff_factor\n\u001b[0;32m    333\u001b[0m total_retry \u001b[38;5;241m=\u001b[39m \u001b[38;5;241m0\u001b[39m \u001b[38;5;28;01mif\u001b[39;00m \u001b[38;5;28mself\u001b[39m\u001b[38;5;241m.\u001b[39mretries \u001b[38;5;241m<\u001b[39m \u001b[38;5;241m0\u001b[39m \u001b[38;5;28;01melse\u001b[39;00m \u001b[38;5;28mself\u001b[39m\u001b[38;5;241m.\u001b[39mretries\n\u001b[1;32m--> 334\u001b[0m \u001b[38;5;28;01mreturn\u001b[39;00m \u001b[43mClientBase\u001b[49m\u001b[38;5;241;43m.\u001b[39;49m\u001b[43m_execute_func_internal\u001b[49m\u001b[43m(\u001b[49m\n\u001b[0;32m    335\u001b[0m \u001b[43m    \u001b[49m\u001b[43mback_off\u001b[49m\u001b[43m,\u001b[49m\u001b[43m \u001b[49m\u001b[43mtotal_retry\u001b[49m\u001b[43m,\u001b[49m\u001b[43m \u001b[49m\u001b[38;5;28;43mself\u001b[39;49m\u001b[38;5;241;43m.\u001b[39;49m\u001b[43m_logger\u001b[49m\u001b[43m,\u001b[49m\u001b[43m \u001b[49m\u001b[43mfunc\u001b[49m\u001b[43m,\u001b[49m\u001b[43m \u001b[49m\u001b[43m_noop_reset\u001b[49m\u001b[43m,\u001b[49m\u001b[43m \u001b[49m\u001b[38;5;241;43m*\u001b[39;49m\u001b[43margs\u001b[49m\u001b[43m,\u001b[49m\u001b[43m \u001b[49m\u001b[38;5;241;43m*\u001b[39;49m\u001b[38;5;241;43m*\u001b[39;49m\u001b[43mkwargs\u001b[49m\u001b[43m)\u001b[49m\n",
      "File \u001b[1;32m~\\anaconda3\\envs\\py311\\Lib\\site-packages\\azureml\\_restclient\\clientbase.py:368\u001b[0m, in \u001b[0;36mClientBase._execute_func_internal\u001b[1;34m(cls, back_off, total_retry, logger, func, reset_func, *args, **kwargs)\u001b[0m\n\u001b[0;32m    366\u001b[0m     \u001b[38;5;28;01mreturn\u001b[39;00m response\n\u001b[0;32m    367\u001b[0m \u001b[38;5;28;01mexcept\u001b[39;00m \u001b[38;5;167;01mException\u001b[39;00m \u001b[38;5;28;01mas\u001b[39;00m error:\n\u001b[1;32m--> 368\u001b[0m     left_retry \u001b[38;5;241m=\u001b[39m \u001b[38;5;28;43mcls\u001b[39;49m\u001b[38;5;241;43m.\u001b[39;49m\u001b[43m_handle_retry\u001b[49m\u001b[43m(\u001b[49m\u001b[43mback_off\u001b[49m\u001b[43m,\u001b[49m\u001b[43m \u001b[49m\u001b[43mleft_retry\u001b[49m\u001b[43m,\u001b[49m\u001b[43m \u001b[49m\u001b[43mtotal_retry\u001b[49m\u001b[43m,\u001b[49m\u001b[43m \u001b[49m\u001b[43merror\u001b[49m\u001b[43m,\u001b[49m\u001b[43m \u001b[49m\u001b[43mlogger\u001b[49m\u001b[43m,\u001b[49m\u001b[43m \u001b[49m\u001b[43mfunc\u001b[49m\u001b[43m)\u001b[49m\n\u001b[0;32m    370\u001b[0m reset_func(\u001b[38;5;241m*\u001b[39margs, \u001b[38;5;241m*\u001b[39m\u001b[38;5;241m*\u001b[39mkwargs)\n",
      "File \u001b[1;32m~\\anaconda3\\envs\\py311\\Lib\\site-packages\\azureml\\_restclient\\clientbase.py:427\u001b[0m, in \u001b[0;36mClientBase._handle_retry\u001b[1;34m(cls, back_off, left_retry, total_retry, error, logger, func)\u001b[0m\n\u001b[0;32m    425\u001b[0m         back_off \u001b[38;5;241m=\u001b[39m DEFAULT_503_BACKOFF\n\u001b[0;32m    426\u001b[0m     \u001b[38;5;28;01melif\u001b[39;00m error\u001b[38;5;241m.\u001b[39mresponse\u001b[38;5;241m.\u001b[39mstatus_code \u001b[38;5;241m<\u001b[39m \u001b[38;5;241m500\u001b[39m \u001b[38;5;129;01mand\u001b[39;00m error\u001b[38;5;241m.\u001b[39mresponse\u001b[38;5;241m.\u001b[39mstatus_code \u001b[38;5;241m!=\u001b[39m \u001b[38;5;241m408\u001b[39m:\n\u001b[1;32m--> 427\u001b[0m         \u001b[38;5;28;01mraise\u001b[39;00m error\n\u001b[0;32m    428\u001b[0m \u001b[38;5;28;01melif\u001b[39;00m \u001b[38;5;28misinstance\u001b[39m(error, ClientRequestError):\n\u001b[0;32m    429\u001b[0m     \u001b[38;5;28;01mif\u001b[39;00m \u001b[38;5;129;01mnot\u001b[39;00m \u001b[38;5;28misinstance\u001b[39m(error\u001b[38;5;241m.\u001b[39minner_exception, RETRY_EXCEPTIONS):\n",
      "File \u001b[1;32m~\\anaconda3\\envs\\py311\\Lib\\site-packages\\azureml\\_restclient\\clientbase.py:359\u001b[0m, in \u001b[0;36mClientBase._execute_func_internal\u001b[1;34m(cls, back_off, total_retry, logger, func, reset_func, *args, **kwargs)\u001b[0m\n\u001b[0;32m    357\u001b[0m \u001b[38;5;28;01mtry\u001b[39;00m:\n\u001b[0;32m    358\u001b[0m     logger\u001b[38;5;241m.\u001b[39mdebug(\u001b[38;5;124m\"\u001b[39m\u001b[38;5;124mClientBase: Calling \u001b[39m\u001b[38;5;132;01m{}\u001b[39;00m\u001b[38;5;124m with url \u001b[39m\u001b[38;5;132;01m{}\u001b[39;00m\u001b[38;5;124m\"\u001b[39m\u001b[38;5;241m.\u001b[39mformat(func_name, func_url))\n\u001b[1;32m--> 359\u001b[0m     response \u001b[38;5;241m=\u001b[39m \u001b[43mfunc\u001b[49m\u001b[43m(\u001b[49m\u001b[38;5;241;43m*\u001b[39;49m\u001b[43margs\u001b[49m\u001b[43m,\u001b[49m\u001b[43m \u001b[49m\u001b[38;5;241;43m*\u001b[39;49m\u001b[38;5;241;43m*\u001b[39;49m\u001b[43mkwargs\u001b[49m\u001b[43m)\u001b[49m\n\u001b[0;32m    360\u001b[0m     \u001b[38;5;28;01mif\u001b[39;00m (\u001b[38;5;28misinstance\u001b[39m(response, Response) \u001b[38;5;129;01mand\u001b[39;00m \u001b[38;5;28mcls\u001b[39m\u001b[38;5;241m.\u001b[39m_is_retryable_status_code(response\u001b[38;5;241m.\u001b[39mstatus_code)\n\u001b[0;32m    361\u001b[0m             \u001b[38;5;129;01mand\u001b[39;00m left_retry \u001b[38;5;241m>\u001b[39m \u001b[38;5;241m0\u001b[39m):\n\u001b[0;32m    362\u001b[0m         \u001b[38;5;66;03m# This is the handle the error case 1. response.raise_for_status only throws HTTPError exception.\u001b[39;00m\n\u001b[0;32m    363\u001b[0m         \u001b[38;5;66;03m# if the status_code is retryable and it is not the last retry, then the exception is thrown.\u001b[39;00m\n\u001b[0;32m    364\u001b[0m         \u001b[38;5;66;03m# Otherwise, we will return the response directly.\u001b[39;00m\n\u001b[0;32m    365\u001b[0m         response\u001b[38;5;241m.\u001b[39mraise_for_status()\n",
      "File \u001b[1;32m~\\anaconda3\\envs\\py311\\Lib\\site-packages\\azureml\\_restclient\\operations\\ml_models_operations.py:337\u001b[0m, in \u001b[0;36mMLModelsOperations.list_query\u001b[1;34m(self, subscription_id, resource_group, workspace, name, tag, framework, description, count, offset, skip_token, tags, properties, run_id, dataset_id, order_by, latest_version_only, custom_headers, raw, **operation_config)\u001b[0m\n\u001b[0;32m    334\u001b[0m response \u001b[38;5;241m=\u001b[39m \u001b[38;5;28mself\u001b[39m\u001b[38;5;241m.\u001b[39m_client\u001b[38;5;241m.\u001b[39msend(request, header_parameters, stream\u001b[38;5;241m=\u001b[39m\u001b[38;5;28;01mFalse\u001b[39;00m, \u001b[38;5;241m*\u001b[39m\u001b[38;5;241m*\u001b[39moperation_config)\n\u001b[0;32m    336\u001b[0m \u001b[38;5;28;01mif\u001b[39;00m response\u001b[38;5;241m.\u001b[39mstatus_code \u001b[38;5;129;01mnot\u001b[39;00m \u001b[38;5;129;01min\u001b[39;00m [\u001b[38;5;241m200\u001b[39m]:\n\u001b[1;32m--> 337\u001b[0m     \u001b[38;5;28;01mraise\u001b[39;00m models\u001b[38;5;241m.\u001b[39mModelErrorResponseException(\u001b[38;5;28mself\u001b[39m\u001b[38;5;241m.\u001b[39m_deserialize, response)\n\u001b[0;32m    339\u001b[0m deserialized \u001b[38;5;241m=\u001b[39m \u001b[38;5;28;01mNone\u001b[39;00m\n\u001b[0;32m    341\u001b[0m \u001b[38;5;28;01mif\u001b[39;00m response\u001b[38;5;241m.\u001b[39mstatus_code \u001b[38;5;241m==\u001b[39m \u001b[38;5;241m200\u001b[39m:\n",
      "\u001b[1;31mModelErrorResponseException\u001b[0m: Workspace not found."
     ]
    }
   ],
   "source": [
    "# Specify the name of the registered model to delete\n",
    "model_name = 'diabetes_prediction_model'\n",
    "\n",
    "# Delete the model\n",
    "registered_model = ws.models[model_name]\n",
    "registered_model.delete()\n"
   ]
  },
  {
   "cell_type": "code",
   "execution_count": 26,
   "id": "84733dc8-3ddf-47a2-a906-644946a3a888",
   "metadata": {},
   "outputs": [
    {
     "ename": "ProjectSystemException",
     "evalue": "ProjectSystemException:\n\tMessage: Workspace not found.\n\tInnerException None\n\tErrorResponse \n{\n    \"error\": {\n        \"message\": \"Workspace not found.\"\n    }\n}",
     "output_type": "error",
     "traceback": [
      "\u001b[1;31m---------------------------------------------------------------------------\u001b[0m",
      "\u001b[1;31mErrorResponseWrapperException\u001b[0m             Traceback (most recent call last)",
      "File \u001b[1;32m~\\anaconda3\\envs\\py311\\Lib\\site-packages\\azureml\\_project\\_commands.py:567\u001b[0m, in \u001b[0;36mdelete_workspace\u001b[1;34m(auth, resource_group_name, workspace_name, subscription_id, delete_dependent_resources, no_wait)\u001b[0m\n\u001b[0;32m    565\u001b[0m     \u001b[38;5;28;01mif\u001b[39;00m delete_dependent_resources:\n\u001b[0;32m    566\u001b[0m         \u001b[38;5;66;03m# get the workspace object first\u001b[39;00m\n\u001b[1;32m--> 567\u001b[0m         workspace \u001b[38;5;241m=\u001b[39m \u001b[43mWorkspacesOperations\u001b[49m\u001b[38;5;241;43m.\u001b[39;49m\u001b[43mget\u001b[49m\u001b[43m(\u001b[49m\n\u001b[0;32m    568\u001b[0m \u001b[43m            \u001b[49m\u001b[43mauth\u001b[49m\u001b[38;5;241;43m.\u001b[39;49m\u001b[43m_get_service_client\u001b[49m\u001b[43m(\u001b[49m\n\u001b[0;32m    569\u001b[0m \u001b[43m\u001b[49m\u001b[43mAzureMachineLearningWorkspaces\u001b[49m\u001b[43m,\u001b[49m\n\u001b[0;32m    570\u001b[0m \u001b[43m \u001b[49m\u001b[43msubscription_id\u001b[49m\u001b[43m)\u001b[49m\u001b[38;5;241;43m.\u001b[39;49m\u001b[43mworkspaces\u001b[49m\u001b[43m,\u001b[49m\n\u001b[0;32m    571\u001b[0m \u001b[43m            \u001b[49m\u001b[43mresource_group_name\u001b[49m\u001b[43m,\u001b[49m\n\u001b[0;32m    572\u001b[0m \u001b[43m            \u001b[49m\u001b[43mworkspace_name\u001b[49m\u001b[43m)\u001b[49m\n\u001b[0;32m    574\u001b[0m         delete_storage_armId(auth, workspace\u001b[38;5;241m.\u001b[39mstorage_account)\n",
      "File \u001b[1;32m~\\anaconda3\\envs\\py311\\Lib\\site-packages\\azureml\\_base_sdk_common\\workspace\\operations\\workspaces_operations.py:110\u001b[0m, in \u001b[0;36mWorkspacesOperations.get\u001b[1;34m(self, resource_group_name, workspace_name, custom_headers, raw, is_dataplane, **operation_config)\u001b[0m\n\u001b[0;32m    109\u001b[0m \u001b[38;5;28;01mif\u001b[39;00m response\u001b[38;5;241m.\u001b[39mstatus_code \u001b[38;5;129;01mnot\u001b[39;00m \u001b[38;5;129;01min\u001b[39;00m [\u001b[38;5;241m200\u001b[39m]:\n\u001b[1;32m--> 110\u001b[0m     \u001b[38;5;28;01mraise\u001b[39;00m models\u001b[38;5;241m.\u001b[39mErrorResponseWrapperException(\n\u001b[0;32m    111\u001b[0m         \u001b[38;5;28mself\u001b[39m\u001b[38;5;241m.\u001b[39m_deserialize, response)\n\u001b[0;32m    113\u001b[0m deserialized \u001b[38;5;241m=\u001b[39m \u001b[38;5;28;01mNone\u001b[39;00m\n",
      "\u001b[1;31mErrorResponseWrapperException\u001b[0m: Operation returned an invalid status code 'Not Found'",
      "\nDuring handling of the above exception, another exception occurred:\n",
      "\u001b[1;31mProjectSystemException\u001b[0m                    Traceback (most recent call last)",
      "Cell \u001b[1;32mIn[26], line 2\u001b[0m\n\u001b[0;32m      1\u001b[0m \u001b[38;5;66;03m# Delete the workspace\u001b[39;00m\n\u001b[1;32m----> 2\u001b[0m \u001b[43mws\u001b[49m\u001b[38;5;241;43m.\u001b[39;49m\u001b[43mdelete\u001b[49m\u001b[43m(\u001b[49m\u001b[43mdelete_dependent_resources\u001b[49m\u001b[38;5;241;43m=\u001b[39;49m\u001b[38;5;28;43;01mTrue\u001b[39;49;00m\u001b[43m)\u001b[49m\n",
      "File \u001b[1;32m~\\anaconda3\\envs\\py311\\Lib\\site-packages\\azureml\\core\\workspace.py:966\u001b[0m, in \u001b[0;36mWorkspace.delete\u001b[1;34m(self, delete_dependent_resources, no_wait)\u001b[0m\n\u001b[0;32m    954\u001b[0m \u001b[38;5;28;01mdef\u001b[39;00m \u001b[38;5;21mdelete\u001b[39m(\u001b[38;5;28mself\u001b[39m, delete_dependent_resources\u001b[38;5;241m=\u001b[39m\u001b[38;5;28;01mFalse\u001b[39;00m, no_wait\u001b[38;5;241m=\u001b[39m\u001b[38;5;28;01mFalse\u001b[39;00m):\n\u001b[0;32m    955\u001b[0m \u001b[38;5;250m    \u001b[39m\u001b[38;5;124;03m\"\"\"Delete the Azure Machine Learning Workspace associated resources.\u001b[39;00m\n\u001b[0;32m    956\u001b[0m \n\u001b[0;32m    957\u001b[0m \u001b[38;5;124;03m    :param delete_dependent_resources: Whether to delete\u001b[39;00m\n\u001b[1;32m   (...)\u001b[0m\n\u001b[0;32m    964\u001b[0m \u001b[38;5;124;03m    :rtype: None\u001b[39;00m\n\u001b[0;32m    965\u001b[0m \u001b[38;5;124;03m    \"\"\"\u001b[39;00m\n\u001b[1;32m--> 966\u001b[0m     \u001b[43m_commands\u001b[49m\u001b[38;5;241;43m.\u001b[39;49m\u001b[43mdelete_workspace\u001b[49m\u001b[43m(\u001b[49m\n\u001b[0;32m    967\u001b[0m \u001b[43m        \u001b[49m\u001b[38;5;28;43mself\u001b[39;49m\u001b[38;5;241;43m.\u001b[39;49m\u001b[43m_auth\u001b[49m\u001b[43m,\u001b[49m\n\u001b[0;32m    968\u001b[0m \u001b[43m        \u001b[49m\u001b[38;5;28;43mself\u001b[39;49m\u001b[38;5;241;43m.\u001b[39;49m\u001b[43m_resource_group\u001b[49m\u001b[43m,\u001b[49m\n\u001b[0;32m    969\u001b[0m \u001b[43m        \u001b[49m\u001b[38;5;28;43mself\u001b[39;49m\u001b[38;5;241;43m.\u001b[39;49m\u001b[43m_workspace_name\u001b[49m\u001b[43m,\u001b[49m\n\u001b[0;32m    970\u001b[0m \u001b[43m        \u001b[49m\u001b[38;5;28;43mself\u001b[39;49m\u001b[38;5;241;43m.\u001b[39;49m\u001b[43m_subscription_id\u001b[49m\u001b[43m,\u001b[49m\n\u001b[0;32m    971\u001b[0m \u001b[43m        \u001b[49m\u001b[43mdelete_dependent_resources\u001b[49m\u001b[43m,\u001b[49m\n\u001b[0;32m    972\u001b[0m \u001b[43m        \u001b[49m\u001b[43mno_wait\u001b[49m\u001b[38;5;241;43m=\u001b[39;49m\u001b[43mno_wait\u001b[49m\u001b[43m)\u001b[49m\n",
      "File \u001b[1;32m~\\anaconda3\\envs\\py311\\Lib\\site-packages\\azureml\\_project\\_commands.py:585\u001b[0m, in \u001b[0;36mdelete_workspace\u001b[1;34m(auth, resource_group_name, workspace_name, subscription_id, delete_dependent_resources, no_wait)\u001b[0m\n\u001b[0;32m    578\u001b[0m     \u001b[38;5;28;01mreturn\u001b[39;00m ml_workspace_delete(\n\u001b[0;32m    579\u001b[0m auth,\n\u001b[0;32m    580\u001b[0m subscription_id,\n\u001b[0;32m    581\u001b[0m resource_group_name,\n\u001b[0;32m    582\u001b[0m workspace_name,\n\u001b[0;32m    583\u001b[0m  no_wait)\n\u001b[0;32m    584\u001b[0m \u001b[38;5;28;01mexcept\u001b[39;00m ErrorResponseWrapperException \u001b[38;5;28;01mas\u001b[39;00m response_exception:\n\u001b[1;32m--> 585\u001b[0m     \u001b[43mresource_error_handling\u001b[49m\u001b[43m(\u001b[49m\u001b[43mresponse_exception\u001b[49m\u001b[43m,\u001b[49m\u001b[43m \u001b[49m\u001b[43mWORKSPACE\u001b[49m\u001b[43m)\u001b[49m\n",
      "File \u001b[1;32m~\\anaconda3\\envs\\py311\\Lib\\site-packages\\azureml\\_base_sdk_common\\common.py:337\u001b[0m, in \u001b[0;36mresource_error_handling\u001b[1;34m(response_exception, resource_type)\u001b[0m\n\u001b[0;32m    335\u001b[0m \u001b[38;5;250m\u001b[39m\u001b[38;5;124;03m\"\"\"General error handling for projects\"\"\"\u001b[39;00m\n\u001b[0;32m    336\u001b[0m \u001b[38;5;28;01mif\u001b[39;00m response_exception\u001b[38;5;241m.\u001b[39mresponse\u001b[38;5;241m.\u001b[39mstatus_code \u001b[38;5;241m==\u001b[39m \u001b[38;5;241m404\u001b[39m:\n\u001b[1;32m--> 337\u001b[0m     \u001b[38;5;28;01mraise\u001b[39;00m ProjectSystemException(\u001b[38;5;124m\"\u001b[39m\u001b[38;5;132;01m{resource_type}\u001b[39;00m\u001b[38;5;124m not found.\u001b[39m\u001b[38;5;124m\"\u001b[39m\u001b[38;5;241m.\u001b[39mformat(resource_type\u001b[38;5;241m=\u001b[39mresource_type))\n\u001b[0;32m    338\u001b[0m \u001b[38;5;28;01melse\u001b[39;00m:\n\u001b[0;32m    339\u001b[0m     response_message \u001b[38;5;241m=\u001b[39m get_http_exception_response_string(response_exception\u001b[38;5;241m.\u001b[39mresponse)\n",
      "\u001b[1;31mProjectSystemException\u001b[0m: ProjectSystemException:\n\tMessage: Workspace not found.\n\tInnerException None\n\tErrorResponse \n{\n    \"error\": {\n        \"message\": \"Workspace not found.\"\n    }\n}"
     ]
    }
   ],
   "source": [
    "# Delete the workspace\n",
    "ws.delete(delete_dependent_resources=True)"
   ]
  },
  {
   "cell_type": "code",
   "execution_count": null,
   "id": "ef508ef4-3c96-401a-886c-56b714becc34",
   "metadata": {},
   "outputs": [],
   "source": []
  },
  {
   "cell_type": "code",
   "execution_count": null,
   "id": "7e34d373-e7ab-436c-beff-f0b4294f6371",
   "metadata": {},
   "outputs": [],
   "source": []
  },
  {
   "cell_type": "code",
   "execution_count": null,
   "id": "07efd612-03cb-4b53-8958-8b418de56d7c",
   "metadata": {},
   "outputs": [],
   "source": []
  },
  {
   "cell_type": "markdown",
   "id": "53f91c0a-bad4-4131-9d3a-27901d17e0a8",
   "metadata": {},
   "source": [
    "1. Azure Account with appropriate subscription\n",
    "2. Configuration file that has subscription_id and other details like resource_group name, etc\n",
    "3. Create a resource group from Azure Portal\n",
    "4. Create a workspace\n",
    "5. Register the model in container registry\n",
    "6. Deploy the model as endpoint\n",
    "7. Once done, delete the created resources"
   ]
  },
  {
   "cell_type": "code",
   "execution_count": null,
   "id": "d2588a05-78bf-45f6-8ef2-230e2f116ba0",
   "metadata": {},
   "outputs": [],
   "source": []
  }
 ],
 "metadata": {
  "kernelspec": {
   "display_name": "Python 3 (ipykernel)",
   "language": "python",
   "name": "python3"
  },
  "language_info": {
   "codemirror_mode": {
    "name": "ipython",
    "version": 3
   },
   "file_extension": ".py",
   "mimetype": "text/x-python",
   "name": "python",
   "nbconvert_exporter": "python",
   "pygments_lexer": "ipython3",
   "version": "3.11.8"
  }
 },
 "nbformat": 4,
 "nbformat_minor": 5
}
